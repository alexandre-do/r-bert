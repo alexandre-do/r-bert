{
 "cells": [
  {
   "cell_type": "code",
   "execution_count": 1,
   "metadata": {},
   "outputs": [],
   "source": [
    "import transformers\n",
    "import torch\n",
    "#import pytorch_lightning\n",
    "import pandas as pd"
   ]
  },
  {
   "cell_type": "code",
   "execution_count": 49,
   "metadata": {},
   "outputs": [],
   "source": [
    "with open('/Users/alexandredo/Desktop/DATA/SemEval2010_task8_all_data/SemEval2010_task8_training/TRAIN_FILE.txt', 'r') as f:\n",
    "    train = f.readlines()\n",
    "with open('/Users/alexandredo/Desktop/DATA/SemEval2010_task8_all_data/SemEval2010_task8_testing/TEST_FILE.txt', 'r') as f:\n",
    "    test = f.readlines()\n"
   ]
  },
  {
   "cell_type": "code",
   "execution_count": 54,
   "metadata": {},
   "outputs": [],
   "source": [
    "train_df = pd.DataFrame(columns=['text', 'label', 'comment'])\n",
    "train_df['text'] = pd.DataFrame(train).loc[list(range(0, len(train), 4))][0].tolist()\n",
    "train_df['label'] = pd.DataFrame(train).loc[list(range(1, len(train), 4))][0].tolist()\n",
    "train_df['comment'] = pd.DataFrame(train).loc[list(range(2, len(train), 4))][0].tolist()\n",
    "\n",
    "\n",
    "test_df = pd.DataFrame(test,columns=['text'])\n"
   ]
  }
 ],
 "metadata": {
  "interpreter": {
   "hash": "4429515eb2b1983f3e9de2b35fa06758b7c4d547b522b9f32688411b7e6e5b7c"
  },
  "kernelspec": {
   "display_name": "Python 3.8.12 64-bit ('rbert': conda)",
   "name": "python3"
  },
  "language_info": {
   "codemirror_mode": {
    "name": "ipython",
    "version": 3
   },
   "file_extension": ".py",
   "mimetype": "text/x-python",
   "name": "python",
   "nbconvert_exporter": "python",
   "pygments_lexer": "ipython3",
   "version": "3.8.12"
  },
  "orig_nbformat": 4
 },
 "nbformat": 4,
 "nbformat_minor": 2
}
