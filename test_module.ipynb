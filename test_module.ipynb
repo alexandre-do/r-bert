{
 "cells": [
  {
   "cell_type": "code",
   "execution_count": 3,
   "metadata": {},
   "outputs": [],
   "source": [
    "import transformers\n",
    "import torch\n",
    "import pytorch_lightning\n",
    "import pandas as pd"
   ]
  },
  {
   "cell_type": "code",
   "execution_count": 4,
   "metadata": {},
   "outputs": [],
   "source": [
    "with open('/Users/alexandredo/Desktop/DATA/SemEval2010_task8_all_data/SemEval2010_task8_training/TRAIN_FILE.txt', 'r') as f:\n",
    "    train = f.readlines()\n",
    "with open('/Users/alexandredo/Desktop/DATA/SemEval2010_task8_all_data/SemEval2010_task8_testing/TEST_FILE.txt', 'r') as f:\n",
    "    test = f.readlines()\n"
   ]
  }
 ],
 "metadata": {
  "interpreter": {
   "hash": "3465a740ff34d1293f9141acf84d7801289d6d9cbc9b4576eacd9d59fc1cb421"
  },
  "kernelspec": {
   "display_name": "Python 3.7.0 64-bit ('jig_saw': conda)",
   "name": "python3"
  },
  "language_info": {
   "codemirror_mode": {
    "name": "ipython",
    "version": 3
   },
   "file_extension": ".py",
   "mimetype": "text/x-python",
   "name": "python",
   "nbconvert_exporter": "python",
   "pygments_lexer": "ipython3",
   "version": "3.7.0"
  }
 },
 "nbformat": 4,
 "nbformat_minor": 2
}
